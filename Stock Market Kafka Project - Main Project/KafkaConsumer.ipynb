{
 "cells": [
  {
   "cell_type": "code",
   "execution_count": 20,
   "id": "94c6d979",
   "metadata": {},
   "outputs": [
    {
     "name": "stdout",
     "output_type": "stream",
     "text": [
      "Requirement already satisfied: s3fs in c:\\users\\user\\anaconda3\\lib\\site-packages (0.4.2)\n",
      "Requirement already satisfied: botocore>=1.12.91 in c:\\users\\user\\anaconda3\\lib\\site-packages (from s3fs) (1.34.139)\n",
      "Requirement already satisfied: fsspec>=0.6.0 in c:\\users\\user\\anaconda3\\lib\\site-packages (from s3fs) (2024.6.1)\n",
      "Requirement already satisfied: python-dateutil<3.0.0,>=2.1 in c:\\users\\user\\anaconda3\\lib\\site-packages (from botocore>=1.12.91->s3fs) (2.8.2)\n",
      "Requirement already satisfied: urllib3!=2.2.0,<3,>=1.25.4 in c:\\users\\user\\anaconda3\\lib\\site-packages (from botocore>=1.12.91->s3fs) (1.26.14)\n",
      "Requirement already satisfied: jmespath<2.0.0,>=0.7.1 in c:\\users\\user\\anaconda3\\lib\\site-packages (from botocore>=1.12.91->s3fs) (0.10.0)\n",
      "Requirement already satisfied: six>=1.5 in c:\\users\\user\\anaconda3\\lib\\site-packages (from python-dateutil<3.0.0,>=2.1->botocore>=1.12.91->s3fs) (1.16.0)\n",
      "Note: you may need to restart the kernel to use updated packages.\n"
     ]
    }
   ],
   "source": [
    "pip install s3fs\n"
   ]
  },
  {
   "cell_type": "code",
   "execution_count": 21,
   "id": "b71c28b5",
   "metadata": {},
   "outputs": [],
   "source": [
    "from kafka import KafkaConsumer\n",
    "from time import sleep\n",
    "from json import dumps,loads\n",
    "import json\n",
    "from s3fs import S3FileSystem"
   ]
  },
  {
   "cell_type": "code",
   "execution_count": 22,
   "id": "9113e5a2",
   "metadata": {},
   "outputs": [],
   "source": [
    "consumer = KafkaConsumer(\n",
    "    'hlombe_malandela',\n",
    "     bootstrap_servers=[':9092'], \n",
    "    value_deserializer=lambda x: loads(x.decode('utf-8')))"
   ]
  },
  {
   "cell_type": "code",
   "execution_count": 23,
   "id": "9e2ab0b3",
   "metadata": {},
   "outputs": [],
   "source": [
    "#for c in consumer:\n",
    "   # print(c.value)"
   ]
  },
  {
   "cell_type": "code",
   "execution_count": 39,
   "id": "8fb0ebe6",
   "metadata": {},
   "outputs": [
    {
     "name": "stdout",
     "output_type": "stream",
     "text": [
      "Requirement already satisfied: s3fs in c:\\users\\user\\anaconda3\\lib\\site-packages (2024.6.1)\n",
      "Requirement already satisfied: boto3 in c:\\users\\user\\anaconda3\\lib\\site-packages (1.34.131)\n",
      "Collecting boto3\n",
      "  Using cached boto3-1.34.139-py3-none-any.whl (139 kB)\n",
      "Requirement already satisfied: aiobotocore<3.0.0,>=2.5.4 in c:\\users\\user\\anaconda3\\lib\\site-packages (from s3fs) (2.13.1)\n",
      "Requirement already satisfied: fsspec==2024.6.1.* in c:\\users\\user\\anaconda3\\lib\\site-packages (from s3fs) (2024.6.1)\n",
      "Requirement already satisfied: aiohttp!=4.0.0a0,!=4.0.0a1 in c:\\users\\user\\anaconda3\\lib\\site-packages (from s3fs) (3.9.5)\n",
      "Collecting botocore<1.35.0,>=1.34.139\n",
      "  Using cached botocore-1.34.139-py3-none-any.whl (12.4 MB)\n",
      "Requirement already satisfied: jmespath<2.0.0,>=0.7.1 in c:\\users\\user\\anaconda3\\lib\\site-packages (from boto3) (0.10.0)\n",
      "Requirement already satisfied: s3transfer<0.11.0,>=0.10.0 in c:\\users\\user\\anaconda3\\lib\\site-packages (from boto3) (0.10.2)\n",
      "Requirement already satisfied: aioitertools<1.0.0,>=0.5.1 in c:\\users\\user\\anaconda3\\lib\\site-packages (from aiobotocore<3.0.0,>=2.5.4->s3fs) (0.11.0)\n",
      "Requirement already satisfied: wrapt<2.0.0,>=1.10.10 in c:\\users\\user\\anaconda3\\lib\\site-packages (from aiobotocore<3.0.0,>=2.5.4->s3fs) (1.14.1)\n",
      "Collecting aiobotocore<3.0.0,>=2.5.4\n",
      "  Using cached aiobotocore-2.13.0-py3-none-any.whl (76 kB)\n",
      "  Using cached aiobotocore-2.12.4-py3-none-any.whl (76 kB)\n",
      "  Using cached aiobotocore-2.12.3-py3-none-any.whl (76 kB)\n",
      "  Using cached aiobotocore-2.12.2-py3-none-any.whl (76 kB)\n",
      "  Using cached aiobotocore-2.12.1-py3-none-any.whl (76 kB)\n",
      "  Using cached aiobotocore-2.12.0-py3-none-any.whl (76 kB)\n",
      "  Using cached aiobotocore-2.11.2-py3-none-any.whl (76 kB)\n",
      "  Using cached aiobotocore-2.11.1-py3-none-any.whl (76 kB)\n",
      "  Using cached aiobotocore-2.11.0-py3-none-any.whl (76 kB)\n",
      "  Using cached aiobotocore-2.10.0-py3-none-any.whl (75 kB)\n",
      "  Using cached aiobotocore-2.9.1-py3-none-any.whl (75 kB)\n",
      "  Using cached aiobotocore-2.9.0-py3-none-any.whl (75 kB)\n",
      "  Using cached aiobotocore-2.8.0-py3-none-any.whl (75 kB)\n",
      "  Using cached aiobotocore-2.7.0-py3-none-any.whl (73 kB)\n",
      "  Using cached aiobotocore-2.6.0-py3-none-any.whl (73 kB)\n",
      "  Using cached aiobotocore-2.5.4-py3-none-any.whl (73 kB)\n",
      "INFO: pip is looking at multiple versions of <Python from Requires-Python> to determine which version is compatible with other requirements. This could take a while.\n",
      "INFO: pip is looking at multiple versions of boto3 to determine which version is compatible with other requirements. This could take a while.\n",
      "Collecting boto3\n",
      "  Using cached boto3-1.34.138-py3-none-any.whl (139 kB)\n",
      "  Using cached boto3-1.34.137-py3-none-any.whl (139 kB)\n",
      "  Using cached boto3-1.34.136-py3-none-any.whl (139 kB)\n",
      "  Using cached boto3-1.34.135-py3-none-any.whl (139 kB)\n",
      "  Using cached boto3-1.34.134-py3-none-any.whl (139 kB)\n",
      "  Using cached boto3-1.34.133-py3-none-any.whl (139 kB)\n",
      "  Using cached boto3-1.34.132-py3-none-any.whl (139 kB)\n",
      "INFO: pip is looking at multiple versions of <Python from Requires-Python> to determine which version is compatible with other requirements. This could take a while.\n",
      "INFO: pip is looking at multiple versions of boto3 to determine which version is compatible with other requirements. This could take a while.\n",
      "Requirement already satisfied: botocore<1.35.0,>=1.34.131 in c:\\users\\user\\anaconda3\\lib\\site-packages (from boto3) (1.34.131)\n",
      "Requirement already satisfied: urllib3!=2.2.0,<3,>=1.25.4 in c:\\users\\user\\anaconda3\\lib\\site-packages (from botocore<1.35.0,>=1.34.131->boto3) (1.26.14)\n",
      "Requirement already satisfied: python-dateutil<3.0.0,>=2.1 in c:\\users\\user\\anaconda3\\lib\\site-packages (from botocore<1.35.0,>=1.34.131->boto3) (2.8.2)\n",
      "Requirement already satisfied: yarl<2.0,>=1.0 in c:\\users\\user\\anaconda3\\lib\\site-packages (from aiohttp!=4.0.0a0,!=4.0.0a1->s3fs) (1.9.4)\n",
      "Requirement already satisfied: async-timeout<5.0,>=4.0 in c:\\users\\user\\anaconda3\\lib\\site-packages (from aiohttp!=4.0.0a0,!=4.0.0a1->s3fs) (4.0.3)\n",
      "Requirement already satisfied: multidict<7.0,>=4.5 in c:\\users\\user\\anaconda3\\lib\\site-packages (from aiohttp!=4.0.0a0,!=4.0.0a1->s3fs) (6.0.5)\n",
      "Requirement already satisfied: frozenlist>=1.1.1 in c:\\users\\user\\anaconda3\\lib\\site-packages (from aiohttp!=4.0.0a0,!=4.0.0a1->s3fs) (1.4.1)\n",
      "Requirement already satisfied: attrs>=17.3.0 in c:\\users\\user\\anaconda3\\lib\\site-packages (from aiohttp!=4.0.0a0,!=4.0.0a1->s3fs) (22.1.0)\n",
      "Requirement already satisfied: aiosignal>=1.1.2 in c:\\users\\user\\anaconda3\\lib\\site-packages (from aiohttp!=4.0.0a0,!=4.0.0a1->s3fs) (1.3.1)\n",
      "Requirement already satisfied: six>=1.5 in c:\\users\\user\\anaconda3\\lib\\site-packages (from python-dateutil<3.0.0,>=2.1->botocore<1.35.0,>=1.34.131->boto3) (1.16.0)\n",
      "Requirement already satisfied: idna>=2.0 in c:\\users\\user\\anaconda3\\lib\\site-packages (from yarl<2.0,>=1.0->aiohttp!=4.0.0a0,!=4.0.0a1->s3fs) (3.4)\n",
      "Note: you may need to restart the kernel to use updated packages.\n"
     ]
    }
   ],
   "source": [
    "pip install --upgrade s3fs boto3\n"
   ]
  },
  {
   "cell_type": "code",
   "execution_count": null,
   "id": "974f52e8",
   "metadata": {},
   "outputs": [],
   "source": [
    "import boto3\n",
    "import json\n",
    "import s3fs \n",
    "\n",
    "# Initialize S3 client with your AWS credentials\n",
    "s3 = boto3.client(\n",
    "    's3',\n",
    "    region_name=',\n",
    "    aws_access_key_id='',\n",
    "    aws_secret_access_key=''\n",
    ")\n",
    "\n",
    "bucket_name = 'hlombemclander-kafka-stock-market'\n",
    "\n",
    "for count, i in enumerate(consumer):\n",
    "    file_content = json.dumps(i.value)\n",
    "    s3.put_object(\n",
    "        Bucket=bucket_name,\n",
    "        Key=f'stock_market_{count}.json',\n",
    "        Body=file_content,\n",
    "        ContentType='application/json'\n",
    "    )\n"
   ]
  }
 ],
 "metadata": {
  "kernelspec": {
   "display_name": "Python 3 (ipykernel)",
   "language": "python",
   "name": "python3"
  },
  "language_info": {
   "codemirror_mode": {
    "name": "ipython",
    "version": 3
   },
   "file_extension": ".py",
   "mimetype": "text/x-python",
   "name": "python",
   "nbconvert_exporter": "python",
   "pygments_lexer": "ipython3",
   "version": "3.10.9"
  }
 },
 "nbformat": 4,
 "nbformat_minor": 5
}
